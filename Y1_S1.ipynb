{
  "nbformat": 4,
  "nbformat_minor": 0,
  "metadata": {
    "colab": {
      "provenance": []
    },
    "kernelspec": {
      "name": "python3",
      "display_name": "Python 3"
    },
    "language_info": {
      "name": "python"
    }
  },
  "cells": [
    {
      "cell_type": "code",
      "execution_count": null,
      "metadata": {
        "colab": {
          "base_uri": "https://localhost:8080/"
        },
        "id": "uQrA8eRs0bzp",
        "outputId": "1fa9c20f-d471-423b-f946-a76f0b9a8ffa"
      },
      "outputs": [
        {
          "output_type": "stream",
          "name": "stdout",
          "text": [
            "Blanche\n",
            "Hi there\n",
            "10\n",
            "Number is 5.5\n"
          ]
        }
      ],
      "source": [
        "print(\"Blanche\")\n",
        "print(\"Hi\",\"there\")\n",
        "print(10)\n",
        "print(\"Number is\", \"5.5\")"
      ]
    },
    {
      "cell_type": "code",
      "source": [
        "print((3*12+5)/23)"
      ],
      "metadata": {
        "colab": {
          "base_uri": "https://localhost:8080/"
        },
        "id": "GIyKqf6m1nUl",
        "outputId": "31e25013-33da-4bf4-bb25-1e61a7c93a2a"
      },
      "execution_count": null,
      "outputs": [
        {
          "output_type": "stream",
          "name": "stdout",
          "text": [
            "1.7826086956521738\n"
          ]
        }
      ]
    },
    {
      "cell_type": "code",
      "source": [
        "input(\"Enter a name: \")\n",
        "input(\"Enter a city: \")"
      ],
      "metadata": {
        "colab": {
          "base_uri": "https://localhost:8080/",
          "height": 71
        },
        "id": "MuvVTJSr17O_",
        "outputId": "1d1d2fd9-0c4a-4d87-b358-962ec3a7f756"
      },
      "execution_count": null,
      "outputs": [
        {
          "name": "stdout",
          "output_type": "stream",
          "text": [
            "Enter a name: Blanche\n",
            "Enter a city: London\n"
          ]
        },
        {
          "output_type": "execute_result",
          "data": {
            "text/plain": [
              "'London'"
            ],
            "application/vnd.google.colaboratory.intrinsic+json": {
              "type": "string"
            }
          },
          "metadata": {},
          "execution_count": 7
        }
      ]
    },
    {
      "cell_type": "code",
      "source": [
        "name = input(\"Enter your name: \")\n",
        "city = input(\"Enter a city: \")\n",
        "\n",
        "print(\"Hello\",name,\"from\",city)"
      ],
      "metadata": {
        "colab": {
          "base_uri": "https://localhost:8080/"
        },
        "id": "0XH6i_HB2s-V",
        "outputId": "773ce8d2-f972-4c8b-debf-d122b2dbb2ce"
      },
      "execution_count": null,
      "outputs": [
        {
          "output_type": "stream",
          "name": "stdout",
          "text": [
            "Enter your name: Blanche\n",
            "Enter a city: London\n",
            "Hello Blanche from London\n"
          ]
        }
      ]
    },
    {
      "cell_type": "markdown",
      "source": [
        "Exercise:\n",
        "\n",
        "Ask the user to enter their name, tel number and city.\n",
        "Print in the followin form:\n",
        "\n",
        "Blanche from London tel is: 06060606\n"
      ],
      "metadata": {
        "id": "cOM-b8di3dAg"
      }
    },
    {
      "cell_type": "code",
      "source": [
        "name = input(\"Enter your name: \")\n",
        "city = input(\"Enter a city: \")\n",
        "tel = input(\"Enter you tel number: \")\n",
        "\n",
        "print(name,\"from\",city,\"tel is\",tel)"
      ],
      "metadata": {
        "colab": {
          "base_uri": "https://localhost:8080/"
        },
        "id": "j4HRMHk23GgX",
        "outputId": "22ac1232-1a3f-49ef-d0d5-0110c6f5db01"
      },
      "execution_count": null,
      "outputs": [
        {
          "output_type": "stream",
          "name": "stdout",
          "text": [
            "Enter your name: Blanche\n",
            "Enter a city: London\n",
            "Enter you tel number: 06060606\n",
            "Blanche from London tel is 06060606\n"
          ]
        }
      ]
    },
    {
      "cell_type": "code",
      "source": [
        "print(\"Blanche\"+\"1\")"
      ],
      "metadata": {
        "colab": {
          "base_uri": "https://localhost:8080/"
        },
        "id": "RN18JJrc4cZv",
        "outputId": "47295d8e-026c-4ec6-f5d2-1b8b57158b45"
      },
      "execution_count": null,
      "outputs": [
        {
          "output_type": "stream",
          "name": "stdout",
          "text": [
            "Blanche1\n"
          ]
        }
      ]
    },
    {
      "cell_type": "code",
      "source": [
        "print(\"Blanche\"*3)"
      ],
      "metadata": {
        "colab": {
          "base_uri": "https://localhost:8080/"
        },
        "id": "dSgsDWxd4-Mj",
        "outputId": "deeace77-7faa-4654-b5b5-3a2c05033877"
      },
      "execution_count": null,
      "outputs": [
        {
          "output_type": "stream",
          "name": "stdout",
          "text": [
            "BlancheBlancheBlanche\n"
          ]
        }
      ]
    },
    {
      "cell_type": "code",
      "source": [
        "age = input(\"How old are you?\")\n",
        "print(age)\n"
      ],
      "metadata": {
        "colab": {
          "base_uri": "https://localhost:8080/"
        },
        "id": "Dg0rrmL55Pz-",
        "outputId": "c39cb1ae-9f0b-4372-d120-df7e031cea9a"
      },
      "execution_count": null,
      "outputs": [
        {
          "output_type": "stream",
          "name": "stdout",
          "text": [
            "How old are you?18\n",
            "18\n"
          ]
        }
      ]
    },
    {
      "cell_type": "code",
      "source": [
        "age = input(\"How old are you?\")\n",
        "print(age*3)\n"
      ],
      "metadata": {
        "colab": {
          "base_uri": "https://localhost:8080/"
        },
        "id": "56TdO5rv5j5d",
        "outputId": "4ce38896-2c92-4e62-b51f-255876553998"
      },
      "execution_count": null,
      "outputs": [
        {
          "output_type": "stream",
          "name": "stdout",
          "text": [
            "How old are you?18\n",
            "181818\n"
          ]
        }
      ]
    },
    {
      "cell_type": "code",
      "source": [
        "age = int(input(\"How old are you?\"))\n",
        "print(age*3)"
      ],
      "metadata": {
        "colab": {
          "base_uri": "https://localhost:8080/"
        },
        "id": "_d1707dg5tyf",
        "outputId": "41849a3c-d61c-4524-c834-7d911c8780b2"
      },
      "execution_count": null,
      "outputs": [
        {
          "output_type": "stream",
          "name": "stdout",
          "text": [
            "How old are you?18\n",
            "54\n"
          ]
        }
      ]
    },
    {
      "cell_type": "markdown",
      "source": [
        "Exercise\n",
        "\n",
        "Ask the user to give you two numbers, one after the other.\n",
        "Print the addition of numbers\n",
        "\n",
        "5\n",
        "6\n",
        "=11\n"
      ],
      "metadata": {
        "id": "qopaTUP158-3"
      }
    },
    {
      "cell_type": "code",
      "source": [
        "x = int(input(\"Enter number: \"))\n",
        "y = int(input(\"Enter a number: \"))\n",
        "\n",
        "print(x+y)"
      ],
      "metadata": {
        "colab": {
          "base_uri": "https://localhost:8080/"
        },
        "id": "dieRO2NI6K6k",
        "outputId": "d0a5206c-48de-4be1-da05-83d8fd8ba411"
      },
      "execution_count": null,
      "outputs": [
        {
          "output_type": "stream",
          "name": "stdout",
          "text": [
            "Enter number 5\n",
            "Enter a number6\n",
            "11\n"
          ]
        }
      ]
    },
    {
      "cell_type": "code",
      "source": [
        "x = float(input(\"Enter number \"))\n",
        "y = float(input(\"Enter a number\"))\n",
        "\n",
        "print(x+y)"
      ],
      "metadata": {
        "colab": {
          "base_uri": "https://localhost:8080/"
        },
        "id": "QZCKAAqJ6rka",
        "outputId": "409e39d2-fc9a-4150-848e-2d7a4e16200f"
      },
      "execution_count": null,
      "outputs": [
        {
          "output_type": "stream",
          "name": "stdout",
          "text": [
            "Enter number 5.5\n",
            "Enter a number6\n",
            "11.5\n"
          ]
        }
      ]
    },
    {
      "cell_type": "code",
      "source": [
        "x = int(input(\"Enter number: \"))\n",
        "y = int(input(\"Enter a number: \"))\n",
        "\n",
        "if y==0:\n",
        "  print(\"I cannot divide by zero\")\n",
        "  print(\"You are stupid!\")\n",
        "else:\n",
        "  print(x/y)"
      ],
      "metadata": {
        "colab": {
          "base_uri": "https://localhost:8080/"
        },
        "id": "GkHlZC8h7ywM",
        "outputId": "edcff42f-1872-4180-d455-658ad9a469de"
      },
      "execution_count": null,
      "outputs": [
        {
          "output_type": "stream",
          "name": "stdout",
          "text": [
            "Enter number: 5\n",
            "Enter a number: 0\n",
            "I cannot divide by zero\n",
            "You are stupid!\n"
          ]
        }
      ]
    },
    {
      "cell_type": "markdown",
      "source": [
        "Ask the user to enter two number.\n",
        "Print the largest number\n",
        "\n",
        "5\n",
        "12\n",
        "max is 12"
      ],
      "metadata": {
        "id": "w8fuEzZY9DdR"
      }
    },
    {
      "cell_type": "code",
      "source": [
        "x = int(input(\"Enter number: \"))\n",
        "y = int(input(\"Enter a number: \"))\n",
        "\n",
        "if x>y:\n",
        "  print(\"Max is\",x)\n",
        "else:\n",
        "  print(\"Max is\",y)"
      ],
      "metadata": {
        "colab": {
          "base_uri": "https://localhost:8080/"
        },
        "id": "b1O4lIOq9K_M",
        "outputId": "60ab6f5e-56db-4a48-d46b-ec6dc97d9d2d"
      },
      "execution_count": null,
      "outputs": [
        {
          "output_type": "stream",
          "name": "stdout",
          "text": [
            "Enter number: 545\n",
            "Enter a number: 4\n",
            "Max is 545\n"
          ]
        }
      ]
    },
    {
      "cell_type": "code",
      "source": [
        "x = int(input(\"Enter number: \"))\n",
        "if x>0:\n",
        "  print(\"Positive\")\n",
        "elif x==0:\n",
        "  print (\"Zero\")\n",
        "else:\n",
        "  print(\"Negative\")\n",
        "\n"
      ],
      "metadata": {
        "colab": {
          "base_uri": "https://localhost:8080/"
        },
        "id": "0x3uK672GPrd",
        "outputId": "8772798f-803d-4879-c6d2-f12ab1a9b12c"
      },
      "execution_count": null,
      "outputs": [
        {
          "output_type": "stream",
          "name": "stdout",
          "text": [
            "Enter number: -56\n",
            "Negative\n"
          ]
        }
      ]
    },
    {
      "cell_type": "code",
      "source": [
        "x = int(input(\"Enter number: \"))\n",
        "if x>0 and x<10:\n",
        "  print(\"number between 0 and 10\")\n",
        "else:\n",
        "  print(\"Something else\")\n"
      ],
      "metadata": {
        "colab": {
          "base_uri": "https://localhost:8080/"
        },
        "id": "Epyvel4dHJgn",
        "outputId": "bd6c141b-b8a8-416f-f8ba-df88965b6809"
      },
      "execution_count": null,
      "outputs": [
        {
          "output_type": "stream",
          "name": "stdout",
          "text": [
            "Enter number: 10\n",
            "Something else\n"
          ]
        }
      ]
    },
    {
      "cell_type": "code",
      "source": [
        "x = float(input(\"Enter number: \"))\n",
        "if x>0 and x<10:\n",
        "  print(\"Fail\")\n",
        "elif x>=10 and x<15:\n",
        "  print(\"Pass\")\n",
        "elif x>=15 and x<=20:\n",
        "  print(\"Distiction\")\n",
        "else:\n",
        "  print(\"Error\")"
      ],
      "metadata": {
        "colab": {
          "base_uri": "https://localhost:8080/"
        },
        "id": "feYIkiiIH_br",
        "outputId": "89cb382a-6be3-46a6-8012-cf93b067fa99"
      },
      "execution_count": null,
      "outputs": [
        {
          "output_type": "stream",
          "name": "stdout",
          "text": [
            "Enter number: 15\n",
            "Distiction\n"
          ]
        }
      ]
    },
    {
      "cell_type": "markdown",
      "source": [],
      "metadata": {
        "id": "ggkAiVJgHsxH"
      }
    }
  ]
}