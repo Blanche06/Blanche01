{
  "nbformat": 4,
  "nbformat_minor": 0,
  "metadata": {
    "colab": {
      "provenance": []
    },
    "kernelspec": {
      "name": "python3",
      "display_name": "Python 3"
    },
    "language_info": {
      "name": "python"
    }
  },
  "cells": [
    {
      "cell_type": "code",
      "execution_count": null,
      "metadata": {
        "colab": {
          "base_uri": "https://localhost:8080/"
        },
        "id": "iK-pPxxFFCC7",
        "outputId": "241340ce-3a33-4752-8daf-d82ee5840454"
      },
      "outputs": [
        {
          "output_type": "stream",
          "name": "stdout",
          "text": [
            "Enter your name: blanche\n",
            "blanche\n"
          ]
        }
      ],
      "source": [
        "name = input(\"Enter your name: \")\n",
        "print(name)"
      ]
    },
    {
      "cell_type": "code",
      "source": [
        "num = int(input(\"Enter a number: \"))\n",
        "print(num*2)\n",
        "\n",
        "if num>0:\n",
        "  print(\"positive\")\n",
        "elif num<0:\n",
        "  print(\"negative\")\n",
        "else:\n",
        "  print(\"zero\")\n"
      ],
      "metadata": {
        "colab": {
          "base_uri": "https://localhost:8080/"
        },
        "id": "_SwBSsZhFpJG",
        "outputId": "e4ba0d27-c917-4f5e-bf05-00192431633d"
      },
      "execution_count": null,
      "outputs": [
        {
          "output_type": "stream",
          "name": "stdout",
          "text": [
            "Enter a number: 0\n",
            "0\n",
            "zero\n"
          ]
        }
      ]
    },
    {
      "cell_type": "code",
      "source": [
        "num1 = float(input(\"Enter a number: \"))\n",
        "num2 = float(input(\"Enter a number: \"))\n",
        "operation = input(\"Enter a sign (+,-,*,/,**,>,<): \")\n",
        "\n",
        "if operation==\"+\":\n",
        "  print(num1+num2)\n",
        "elif operation==\"-\":\n",
        "  print(num1*num2)\n",
        "elif operation==\"*\":\n",
        "  print(num1*num2)\n",
        "elif operation==\"/\" and num2!=0:\n",
        "  print(num1/num2)\n",
        "elif operation==\"**\":\n",
        "  print(num1**num2)\n",
        "elif operation==\">\" and num1>num2:\n",
        "  print(num1)\n",
        "elif operation==\"<\" and num1<num2:\n",
        "  print(num1)\n",
        "else:\n",
        "  print(\"I do not support this yet!\")"
      ],
      "metadata": {
        "colab": {
          "base_uri": "https://localhost:8080/"
        },
        "id": "xpKLW9qaGsz2",
        "outputId": "abddc44e-944b-4713-c157-ed8a2d7ace4f"
      },
      "execution_count": null,
      "outputs": [
        {
          "output_type": "stream",
          "name": "stdout",
          "text": [
            "Enter a number: 4\n",
            "Enter a number: 2\n",
            "Enter a sign (+,-,*,/,**,>,<): >\n",
            "4.0\n"
          ]
        }
      ]
    },
    {
      "cell_type": "code",
      "source": [
        "text = \"My name is Blanche and I live in London\"\n",
        "print(text[0])\n",
        "print(text[-1])"
      ],
      "metadata": {
        "id": "AfI5_G1RIaGj",
        "colab": {
          "base_uri": "https://localhost:8080/"
        },
        "outputId": "24777493-27d5-4209-b099-4f3023144699"
      },
      "execution_count": null,
      "outputs": [
        {
          "output_type": "stream",
          "name": "stdout",
          "text": [
            "M\n",
            "n\n"
          ]
        }
      ]
    },
    {
      "cell_type": "code",
      "source": [
        "text = \"My name is Blanche and I live in London\"\n",
        "print(text[5:7])\n"
      ],
      "metadata": {
        "colab": {
          "base_uri": "https://localhost:8080/"
        },
        "id": "w5TbbELjMP-l",
        "outputId": "aa678333-3416-4a01-973e-44bb82fe1b0c"
      },
      "execution_count": null,
      "outputs": [
        {
          "output_type": "stream",
          "name": "stdout",
          "text": [
            "me\n"
          ]
        }
      ]
    },
    {
      "cell_type": "code",
      "source": [
        "text = \"London is the capital and largest city of both England and the United Kingdom, with a population of 8,866,180 in 2022. The wider metropolitan area is the\"\n",
        "print(text[5:7])\n"
      ],
      "metadata": {
        "id": "ZrXS-QzQOPQt"
      },
      "execution_count": null,
      "outputs": []
    },
    {
      "cell_type": "code",
      "source": [
        "text = input(\"Where are you from? \")\n",
        "\n",
        "# If the city starts with L then print \"Capital L\"\n",
        "# else print \"Something else\"\n",
        "# Check if the text has a . at the end, if so say you have a dot.\n",
        "# If not say there is no dont!\n",
        "\n",
        "if text[0]==\"L\":\n",
        "  print(\"Capital L\")\n",
        "else:\n",
        "  print"
      ],
      "metadata": {
        "id": "qN1PXZiqPpve"
      },
      "execution_count": null,
      "outputs": []
    }
  ]
}